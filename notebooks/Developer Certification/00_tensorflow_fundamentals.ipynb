{
 "cells": [
  {
   "cell_type": "markdown",
   "id": "82231d38-0417-41da-90bf-fe793fd3f343",
   "metadata": {},
   "source": [
    "\n",
    "### This is an introductury notebook that will introduce us to some of the most fundamental concepts of tensors using Tensorflow\n",
    "- Introduction to tensors\n",
    "- Getting information from tensors\n",
    "- Manipulating tensors\n",
    "- Tensors & JNumPy\n",
    "- Using @tf.function (a way to speed up regular Python functions)\n",
    "- Using GPU's with Tensorflow\n",
    "- Exercises to try "
   ]
  },
  {
   "cell_type": "markdown",
   "id": "92a162a1-1294-48ff-8e0c-208a7886e701",
   "metadata": {},
   "source": [
    "## Introduction to Tensors"
   ]
  },
  {
   "cell_type": "code",
   "execution_count": 2,
   "id": "07d3509a-0a8f-4a88-b1ea-5beca35bee50",
   "metadata": {},
   "outputs": [
    {
     "name": "stdout",
     "output_type": "stream",
     "text": [
      "2.13.0\n"
     ]
    }
   ],
   "source": [
    "import tensorflow as tf\n",
    "print(tf.__version__)"
   ]
  },
  {
   "cell_type": "markdown",
   "id": "0cada37d-7d3c-4573-ad70-abdbdc343481",
   "metadata": {},
   "source": [
    "### Scalars\n",
    "A scalar is simply a single number"
   ]
  },
  {
   "cell_type": "code",
   "execution_count": 4,
   "id": "0031d869-6255-4054-9d2b-0a7728aa0304",
   "metadata": {},
   "outputs": [
    {
     "data": {
      "text/plain": [
       "<tf.Tensor: shape=(), dtype=int32, numpy=7>"
      ]
     },
     "execution_count": 4,
     "metadata": {},
     "output_type": "execute_result"
    }
   ],
   "source": [
    "#create tensors with tf.constant()\n",
    "scalar = tf.constant(7)\n",
    "scalar"
   ]
  },
  {
   "cell_type": "code",
   "execution_count": 5,
   "id": "0db5f02c-61c6-471a-ab4e-7d5f87ad3968",
   "metadata": {},
   "outputs": [
    {
     "data": {
      "text/plain": [
       "0"
      ]
     },
     "execution_count": 5,
     "metadata": {},
     "output_type": "execute_result"
    }
   ],
   "source": [
    "#check number of dimensions of tensor\n",
    "scalar.ndim"
   ]
  },
  {
   "cell_type": "markdown",
   "id": "4fc4b48b-7e3e-4809-8051-1b7361060613",
   "metadata": {},
   "source": [
    "### Vectors\n",
    "A vector is a number with a direction"
   ]
  },
  {
   "cell_type": "code",
   "execution_count": 6,
   "id": "d9c78ed1-efa2-4b1b-a731-3dba3f71c861",
   "metadata": {},
   "outputs": [
    {
     "data": {
      "text/plain": [
       "<tf.Tensor: shape=(2,), dtype=int32, numpy=array([10, 10], dtype=int32)>"
      ]
     },
     "execution_count": 6,
     "metadata": {},
     "output_type": "execute_result"
    }
   ],
   "source": [
    "#create a vector\n",
    "vector = tf.constant([10, 10])\n",
    "vector"
   ]
  },
  {
   "cell_type": "code",
   "execution_count": 7,
   "id": "4d10958c-3eb2-4ad8-96a9-5585c30efaa1",
   "metadata": {},
   "outputs": [
    {
     "data": {
      "text/plain": [
       "1"
      ]
     },
     "execution_count": 7,
     "metadata": {},
     "output_type": "execute_result"
    }
   ],
   "source": [
    "vector.ndim"
   ]
  },
  {
   "cell_type": "code",
   "execution_count": 9,
   "id": "fe1d625a-21d6-4658-929a-c6ab680c846b",
   "metadata": {},
   "outputs": [
    {
     "data": {
      "text/plain": [
       "<tf.Tensor: shape=(2, 2), dtype=int32, numpy=\n",
       "array([[10,  7],\n",
       "       [ 7, 10]], dtype=int32)>"
      ]
     },
     "execution_count": 9,
     "metadata": {},
     "output_type": "execute_result"
    }
   ],
   "source": [
    "#create a matrix (has more than 1 dimension)\n",
    "matrix = tf.constant([[10, 7], \n",
    "                       [7, 10]])\n",
    "matrix"
   ]
  },
  {
   "cell_type": "markdown",
   "id": "16e22c74-2f97-4e89-9471-e0aa295a5200",
   "metadata": {},
   "source": [
    "### Matrix\n",
    "A matrix a dimensional array of numbers"
   ]
  },
  {
   "cell_type": "code",
   "execution_count": 10,
   "id": "a7cd5fd7-18de-471b-a1e8-8540b9a8505d",
   "metadata": {},
   "outputs": [
    {
     "data": {
      "text/plain": [
       "2"
      ]
     },
     "execution_count": 10,
     "metadata": {},
     "output_type": "execute_result"
    }
   ],
   "source": [
    "matrix.ndim"
   ]
  },
  {
   "cell_type": "code",
   "execution_count": 12,
   "id": "8a34dc64-fdfc-42f7-87b2-53aae59d7928",
   "metadata": {},
   "outputs": [
    {
     "data": {
      "text/plain": [
       "<tf.Tensor: shape=(3, 2), dtype=float16, numpy=\n",
       "array([[10.,  7.],\n",
       "       [ 3.,  2.],\n",
       "       [ 8.,  9.]], dtype=float16)>"
      ]
     },
     "execution_count": 12,
     "metadata": {},
     "output_type": "execute_result"
    }
   ],
   "source": [
    "#create another matrix\n",
    "another_matrix = tf.constant([[10., 7.],\n",
    "                              [3., 2.],\n",
    "                              [8., 9.]], dtype=tf.float16)\n",
    "another_matrix"
   ]
  },
  {
   "cell_type": "markdown",
   "id": "c51cd45f-1b9d-44f9-ab43-9c98b9d1f549",
   "metadata": {},
   "source": [
    "### Tensor\n",
    "an n-dimensional array of numbers"
   ]
  },
  {
   "cell_type": "code",
   "execution_count": 14,
   "id": "9565e217-fded-43cc-b7b0-57c4f954b837",
   "metadata": {},
   "outputs": [
    {
     "data": {
      "text/plain": [
       "<tf.Tensor: shape=(3, 2, 3), dtype=int32, numpy=\n",
       "array([[[ 1,  2,  3],\n",
       "        [ 4,  5,  6]],\n",
       "\n",
       "       [[ 7,  8,  9],\n",
       "        [10, 11, 12]],\n",
       "\n",
       "       [[13, 14, 15],\n",
       "        [16, 17, 18]]], dtype=int32)>"
      ]
     },
     "execution_count": 14,
     "metadata": {},
     "output_type": "execute_result"
    }
   ],
   "source": [
    "#Let's create a tensor\n",
    "tensor = tf.constant([\n",
    "    [\n",
    "        [1, 2, 3],\n",
    "        [4, 5, 6]\n",
    "    ],\n",
    "    [\n",
    "        [7, 8, 9,],\n",
    "        [10, 11, 12]\n",
    "    ],\n",
    "    [\n",
    "        [13, 14, 15],\n",
    "        [16, 17, 18]\n",
    "    ]\n",
    "])\n",
    "tensor"
   ]
  },
  {
   "cell_type": "code",
   "execution_count": 15,
   "id": "e3f8598c-1f28-4ced-a152-1852bd5f89c4",
   "metadata": {},
   "outputs": [
    {
     "data": {
      "text/plain": [
       "3"
      ]
     },
     "execution_count": 15,
     "metadata": {},
     "output_type": "execute_result"
    }
   ],
   "source": [
    "tensor.ndim"
   ]
  },
  {
   "cell_type": "markdown",
   "id": "1cdfb36c-5c26-460b-9914-37c72e1e9104",
   "metadata": {},
   "source": [
    "## Creating tensors with `tf.variable`\n",
    "The previous entities were created using `tf.constant`. This creates an object that cannot be changed. Going forward it will be beneficial to manipulate the contents of vectors, matrices, and tensors"
   ]
  },
  {
   "cell_type": "code",
   "execution_count": 17,
   "id": "5ba15c25-ec07-49b6-a403-ff3e1ae7964a",
   "metadata": {},
   "outputs": [
    {
     "data": {
      "text/plain": [
       "(<tf.Variable 'Variable:0' shape=(2,) dtype=int32, numpy=array([10,  7], dtype=int32)>,\n",
       " <tf.Tensor: shape=(2,), dtype=int32, numpy=array([10,  7], dtype=int32)>)"
      ]
     },
     "execution_count": 17,
     "metadata": {},
     "output_type": "execute_result"
    }
   ],
   "source": [
    "changeable_tensor = tf.Variable([10, 7])\n",
    "unchangeable_tensor = tf.constant([10, 7])\n",
    "changeable_tensor, unchangeable_tensor"
   ]
  },
  {
   "cell_type": "code",
   "execution_count": 18,
   "id": "e19b0617-5d16-44f9-b330-0bc2c3a2f244",
   "metadata": {},
   "outputs": [
    {
     "data": {
      "text/plain": [
       "<tf.Tensor: shape=(), dtype=int32, numpy=10>"
      ]
     },
     "execution_count": 18,
     "metadata": {},
     "output_type": "execute_result"
    }
   ],
   "source": [
    "#Let's attempt to change values in the unchangeable_tensor\n",
    "changeable_tensor[0] = 7"
   ]
  }
 ],
 "metadata": {
  "kernelspec": {
   "display_name": "Python 3 (ipykernel)",
   "language": "python",
   "name": "python3"
  },
  "language_info": {
   "codemirror_mode": {
    "name": "ipython",
    "version": 3
   },
   "file_extension": ".py",
   "mimetype": "text/x-python",
   "name": "python",
   "nbconvert_exporter": "python",
   "pygments_lexer": "ipython3",
   "version": "3.8.10"
  }
 },
 "nbformat": 4,
 "nbformat_minor": 5
}
